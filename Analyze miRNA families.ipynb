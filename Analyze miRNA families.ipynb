{
 "cells": [
  {
   "cell_type": "markdown",
   "metadata": {},
   "source": [
    "# Welcome\n",
    "\n",
    "Welcome to this Jupyter Notebook. Jupyter Notebooks are a neat way to run data analysis in a wide variety of programming languages.\n",
    "\n",
    "Python and R are the most used languages in computational biology and bioinformatics. For this analysis we'll use Python, however the concepts of working with data tables is very similar to what you would do using R.\n",
    "\n",
    "If you have no experience in programming, don't worry! I'll guide you through our little analysis.\n",
    "\n",
    "Notebooks are written in chunks of code called *cells*. These cells can be executed one by one and intermediate results can be examined in between."
   ]
  },
  {
   "cell_type": "code",
   "execution_count": null,
   "metadata": {},
   "outputs": [],
   "source": [
    "# This is a cell for example. And this line is a 'comment'. Every line of code that starts with a '#' is a comment. \n",
    "# It is ignored by Python and you can use it to comment/document your code.\n",
    "\n",
    "# If you run code that produces a value, it is printed below the code cell, when you execute it.\n",
    "# Try it out! Click on this cell and press Shift+Enter to execute it.\n",
    "\n",
    "2 + 2 "
   ]
  },
  {
   "cell_type": "markdown",
   "metadata": {},
   "source": [
    "Great! Let's continue with the real stuff! We want to use our miRNA read counts to rank miRNA families by their expression.\n",
    "\n",
    "The rationale is simple: The miRNA seed (nucleotides 2-8 of a miRNA) not only determines the family of a miRNA, it also is the main determinant for target binding. Further, the expression of a miRNA can contribute to its effectiveness. In conclusion, a miRNA family consisting of several strongly expressed miRNAs potentially provokes a considerable regulation on its targets. We are therefore interested in learning about the combined expression of miRNA families.\n",
    "\n",
    "While it would be possible to import and play around with our data sets with pure Python, data scientists usually use the *pandas* library to facilitate several processes. Pandas is the go-to library to work with n-dimensional data sets, including ordinary tables. Let's use it to import our data sets and to play around with them."
   ]
  },
  {
   "cell_type": "code",
   "execution_count": null,
   "metadata": {},
   "outputs": [],
   "source": [
    "# First we need to tell Python that we want to use the pandas library. We further tell python to use the shortcut 'pd'\n",
    "import pandas as pd\n",
    "\n",
    "# From now on we can access all the functionality of pandas via the name 'pd'. \n",
    "# Let's load a data table from a TSV file\n",
    "file_url = 'https://raw.githubusercontent.com/moritzschaefer/jupyter-mirna-course/master/WT1_mature_sense.grouped'\n",
    "df = pd.read_csv(file_url, sep='\\t', index_col=0)\n",
    "# the data pandas structures are called 'DataFrames'. Here we generate a DataFrame from a TSV file and store \n",
    "# it in the variable 'df' (you could choose any name). With the 'head' command you can see the first entries:\n",
    "\n",
    "df.head()"
   ]
  },
  {
   "cell_type": "markdown",
   "metadata": {},
   "source": [
    "The head() function produces the first 5 lines of a DataFrame. Since it is the last line in the code block, the produced value (the head of the DataFrame) is printed. The simple examination of the outputs of commands is one of the features that makes Jupyter Notebooks so useful.\n",
    "\n",
    "The miRNA expression counts are now stored in the DataFrame we just loaded. You can think of a DataFrame like an Excel sheet. The 8 columns of this data frames are all named (e.g. \"unique reads\"). The index (i.e. the identifier for each row) is the name of the miRNA. We have defined the index by choosing the first column of the file as index (see 'index_col=0' above).\n",
    "\n",
    "If you don't understand or don't know how to perform a certain task, always remember: You'll find everything through a web search (e.g. Google) if you ask the right question (stackoverflow.com most often contains an answer to your programming-related question).\n",
    "\n",
    "There are many ways to indicate miRNA expression. Consequently, sRNAbench gave us different interpretations of the expression of each individual miRNA.  We are interested in the \"library-normalized reads-per-million (RPM)\". Let's view that column:"
   ]
  },
  {
   "cell_type": "code",
   "execution_count": null,
   "metadata": {},
   "outputs": [],
   "source": [
    "df['RPM (lib)']"
   ]
  },
  {
   "cell_type": "markdown",
   "metadata": {},
   "source": [
    "Now that we know how to select the expression of the miRNAs, we can group them by family.\n",
    "\n",
    "For this, we first need to assign the miRNAs to families!\n",
    "\n",
    "I previously assigned miRNAs to their families, simply by exmamining nucleotides 2-8 of each miRNA sequence. I have provided the resulting data table so you can integrate it in your analysis."
   ]
  },
  {
   "cell_type": "code",
   "execution_count": null,
   "metadata": {},
   "outputs": [],
   "source": [
    "# Load family data table. \n",
    "\n",
    "### EXERCISE FOR STUDENTS - Complete the line such that the CSV from 'data/mirna_families.csv' is loaded. \n",
    "file_url = 'https://raw.githubusercontent.com/moritzschaefer/jupyter-mirna-course/master/...'\n",
    "# You DON'T need the 'sep'-argument, as used above, since the file uses comma-separation instead of tab-separation\n",
    "family_df = ...\n",
    "\n",
    "### EXERCISE: Show the first lines of the family-DataFrame\n",
    "..."
   ]
  },
  {
   "cell_type": "markdown",
   "metadata": {},
   "source": [
    "To extract a single column of interest, we can again use the \\['']-bracket notation. Note how the index (the miRNA name) is still associated with the selected column."
   ]
  },
  {
   "cell_type": "code",
   "execution_count": null,
   "metadata": {},
   "outputs": [],
   "source": [
    "### EXERCISE: Select and show the 'seed' column\n",
    "..."
   ]
  },
  {
   "cell_type": "code",
   "execution_count": null,
   "metadata": {},
   "outputs": [],
   "source": [
    "# By default, pandas uses an index with increasing numbers. We'll use the name of the miRNA as index, since it's more descriptive for each row:\n",
    "family_df = family_df.set_index('miRNA')\n",
    "# Pandas operations return a new DataFrame instead of modifying the existing one. This is why we use '='-assignment."
   ]
  },
  {
   "cell_type": "code",
   "execution_count": null,
   "metadata": {},
   "outputs": [],
   "source": [
    "# We can now add the loaded seed information into our first DataFrame.\n",
    "\n",
    "# Because our expression-DataFrame (df) and the family_df-DataFrame have the same index (miRNA names), \n",
    "# pandas automatically assigns the correct seeds to each row\n",
    "df['seed'] =  family_df['seed']\n",
    "df.head()"
   ]
  },
  {
   "cell_type": "markdown",
   "metadata": {},
   "source": [
    "In order to get the summed expression per family, we need to subdivide our DataFrame into *groups* (one group per family) and *sum* the expression of the miRNAs in each group.\n",
    "\n",
    "This can be done automatically using the *groupby* method.\n",
    "\n",
    "Let's get there step by step!"
   ]
  },
  {
   "cell_type": "code",
   "execution_count": null,
   "metadata": {},
   "outputs": [],
   "source": [
    "# Group by cluster\n",
    "grouped = df.groupby('seed')\n",
    "# Show the first group\n",
    "list(grouped)[0]  # In Python, we start counting with 0. The first element of a list of elements can be retrieved with [0]"
   ]
  },
  {
   "cell_type": "markdown",
   "metadata": {},
   "source": [
    "The first group/family only consists of a single miRNA (apparently, miR-3473g does not share its seed with any other miRNA).\n",
    "\n",
    "Besides simply printing these groups, we can simply sum up their expression:"
   ]
  },
  {
   "cell_type": "code",
   "execution_count": null,
   "metadata": {},
   "outputs": [],
   "source": [
    "# We first select our column of interest, \n",
    "# then sum the values of the group\n",
    "# then sort to have the most-expressed families at the top\n",
    "family_expressions = df.groupby('seed')['RPM (lib)'].sum().sort_values(ascending=False).to_frame()\n",
    "family_expressions"
   ]
  },
  {
   "cell_type": "code",
   "execution_count": null,
   "metadata": {},
   "outputs": [],
   "source": [
    "# Jupyter notebooks also allows us to visualize data and pandas facilitates this very conveniently\n",
    "family_expressions.head(15).plot.bar(figsize=(12, 6))"
   ]
  },
  {
   "cell_type": "markdown",
   "metadata": {},
   "source": [
    "Congratulations, you managed the first part.\n",
    "\n",
    "Depending on your previous knowledge, all these commands might seem confusing when seeing them the first time. I remember continuously having had the thought \"How would I ever know all these commands?\" when I started programming. \n",
    "Usually, programming languages and libraries are designed in a consistent and logical fashion. With some practice and some reading of manuals and documentations you will quickly get the hang of it.\n",
    "\n",
    "The first part involved a lot of hand-holding. In part 2, I'll let you work by yourself to finish our data analysis."
   ]
  },
  {
   "cell_type": "markdown",
   "metadata": {},
   "source": [
    "## Part 2\n",
    "\n",
    "We now know the combined expression of miRNAs with the same seed. However this expression is just assigned to seed-sequences. We are of course interested in the miRNAs that correspond to each individual seed.\n",
    "\n",
    "Your task is to add another column to the family_expressions data, that shows the miRNAs, associated with a each corresponding seed, as comma-separated strings (e.g. 'mmu-miR-12a-5p,mmu-miR-321-3p,mmu-miR-545b-5p')\n",
    "\n",
    "You already learned how to\n",
    "\n",
    "- create a new column\n",
    "- groupby a specific column\n",
    "\n",
    "For aggregating your groups of miRNAs into a comma-separated string, you can use the following construct: \n",
    "\n",
    "    groupby(...)[...].apply(','.join)\n",
    "    \n",
    "_apply_ applies a function to each group, while _','.join_ is the function that converts a list of strings into a single comma-separated string.\n",
    "\n",
    "Good luck."
   ]
  },
  {
   "cell_type": "code",
   "execution_count": null,
   "metadata": {},
   "outputs": [],
   "source": []
  }
 ],
 "metadata": {
  "kernelspec": {
   "display_name": "Python 3",
   "language": "python",
   "name": "python3"
  },
  "language_info": {
   "codemirror_mode": {
    "name": "ipython",
    "version": 3
   },
   "file_extension": ".py",
   "mimetype": "text/x-python",
   "name": "python",
   "nbconvert_exporter": "python",
   "pygments_lexer": "ipython3",
   "version": "3.8.5"
  }
 },
 "nbformat": 4,
 "nbformat_minor": 4
}
