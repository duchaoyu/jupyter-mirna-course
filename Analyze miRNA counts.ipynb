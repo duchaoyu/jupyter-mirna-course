{
 "cells": [
  {
   "cell_type": "markdown",
   "metadata": {},
   "source": [
    "# Welcome\n",
    "\n",
    "Welcome to this Jupyter Notebook. Jupyter Notebooks are a neat way to run data analysis in a wide variety of programming languages.\n",
    "\n",
    "Python and R are the most used languages in computational biology and bioinformatics. For this analysis we'll use Python, however the concepts of working with data tables is very similar to what you would do using R.\n",
    "\n",
    "If you have no experience in programming, don't worry! I'll guide you through our little analysis.\n",
    "\n",
    "Notebooks are written in chunks of code called *cells*. These cells can be executed one by one and intermediate results can be examined in between."
   ]
  },
  {
   "cell_type": "code",
   "execution_count": null,
   "metadata": {},
   "outputs": [],
   "source": [
    "# This is a cell for example. And this line is a 'comment'. Every line of code that starts with a '#' is a comment. \n",
    "# It is ignored by Python and you can use it to comment/document your code.\n",
    "\n",
    "# If you run code that produces a value, it is printed below the code cell, when you execute it.\n",
    "# Try it out! Click on this cell and press Shift+Enter to execute it.\n",
    "\n",
    "2 + 2 "
   ]
  },
  {
   "cell_type": "markdown",
   "metadata": {},
   "source": [
    "Great! Let's continue with the real stuff! We want to use our miRNA read counts to identify the most expressed miRNAs.\n",
    "\n",
    "While it would be possible to import and play around with our data sets with pure Python, data scientists usually use the *pandas* library to facilitate several processes. Pandas is the go-to library to work with n-dimensional data sets, including ordinary tables. Let's use it to import our data sets and to play around with them."
   ]
  },
  {
   "cell_type": "code",
   "execution_count": null,
   "metadata": {},
   "outputs": [],
   "source": [
    "# First we need to tell Python that we want to use the pandas library. We further tell python to use the shortcut 'pd'\n",
    "import pandas as pd\n",
    "\n",
    "# From now on we can access all the functionality of pandas via the name 'pd'. \n",
    "# Let's load a data table from a TSV file\n",
    "file_url = 'https://raw.githubusercontent.com/moritzschaefer/jupyter-mirna-course/master/wt1.txt'\n",
    "df_wt1 = pd.read_csv(file_url, sep='\\t', index_col=0)\n",
    "# the data pandas structures are called 'DataFrames'. Here we generate a DataFrame from a TSV file and store \n",
    "# it in the variable 'df' (you could choose any name). With the 'head' command you can see the first entries:\n",
    "\n",
    "df_wt1.head()"
   ]
  },
  {
   "cell_type": "markdown",
   "metadata": {},
   "source": [
    "The head() function produces the first 5 lines of a DataFrame. Since it is the last line in the code block, the produced value (the head of the DataFrame) is printed. The simple examination of the outputs of commands is one of the features that makes Jupyter Notebooks so useful.\n",
    "\n",
    "In this case, the first 5 miRNAs in the data frames have no reads at all. Only a subset of miRNAs is expressed in a given cell state, so it is not unusual to see a lot of zeroes in the read counts.\n",
    "\n",
    "The miRNA expression counts are now stored in the DataFrame we just loaded. You can think of a DataFrame like an Excel sheet. The 6 columns of this data frames are all named (e.g. \"unique reads\"). The index (i.e. the identifier for each row) is the name of the miRNA. We have defined the index by choosing the first column of the file as index (see 'index_col=0' above).\n",
    "\n",
    "If you don't understand or don't know how to perform a certain task, always remember: You'll find everything through a web search (e.g. Google) if you ask the right question (stackoverflow.com most often contains an answer to your programming-related question).\n",
    "\n",
    "In this DataFrame, the column with the read counts is named according to the sample ('WT_1'). We can select and show the column like so:"
   ]
  },
  {
   "cell_type": "code",
   "execution_count": null,
   "metadata": {},
   "outputs": [],
   "source": [
    "df_wt1['WT_1']"
   ]
  },
  {
   "cell_type": "markdown",
   "metadata": {},
   "source": [
    "Since we have sequenced two replicates, we would like to combine their read counts"
   ]
  },
  {
   "cell_type": "code",
   "execution_count": null,
   "metadata": {},
   "outputs": [],
   "source": [
    "# Load second wt replicate \n",
    "\n",
    "### EXERCISE FOR STUDENTS - Complete the line such that the CSV from '.wt2.txt'' is loaded. \n",
    "df_wt2 = ...\n",
    "\n",
    "### EXERCISE: Show the first lines of the new dataframe\n",
    "..."
   ]
  },
  {
   "cell_type": "markdown",
   "metadata": {},
   "source": [
    "To extract a single column of interest, we can again use the \\['']-bracket notation. Note how the index (the miRNA name) is still associated with the selected column."
   ]
  },
  {
   "cell_type": "code",
   "execution_count": null,
   "metadata": {},
   "outputs": [],
   "source": [
    "### EXERCISE: Select and show the column with the readcounts\n",
    "..."
   ]
  },
  {
   "cell_type": "markdown",
   "metadata": {},
   "source": [
    "With the two replicates loaded, it is simple to combine their counts. We just sum the two reads and divide by 2. There are more sophisticated approaches like library size normalization, but for our small analysis today, it will do."
   ]
  },
  {
   "cell_type": "code",
   "execution_count": null,
   "metadata": {},
   "outputs": [],
   "source": [
    "\n",
    "combined_counts = (df_wt1['WT_1'] + df_wt2['WT_2']) / 2\n",
    "\n",
    "combined_counts.head()"
   ]
  },
  {
   "cell_type": "markdown",
   "metadata": {},
   "source": [
    "First, we would like to know, which miRNAs are most strongly expressed. This is as simple as sorting the combined_counts. We need to add an 'ascending'-parameter with the value _False_. By default sorting is performed in a ascending manner, which is not what we want."
   ]
  },
  {
   "cell_type": "code",
   "execution_count": null,
   "metadata": {},
   "outputs": [],
   "source": [
    "combined_counts = combined_counts.sort_values(ascending=False)\n",
    "combined_counts"
   ]
  },
  {
   "cell_type": "code",
   "execution_count": null,
   "metadata": {},
   "outputs": [],
   "source": [
    "# Jupyter notebooks also allows us to visualize data and pandas facilitates this very conveniently\n",
    "combined_counts.head(15).plot.bar(figsize=(12, 6))"
   ]
  },
  {
   "cell_type": "markdown",
   "metadata": {},
   "source": [
    "In the lab, we have previously knocked out the _Drosha_ gene, which is one of the genes involved in the microRNA biogenesis pathway. \n",
    "\n",
    "Its knockout should affect the biogenesis of microRNAs, which should be reflected in a reduced number of miRNA reads."
   ]
  },
  {
   "cell_type": "code",
   "execution_count": null,
   "metadata": {},
   "outputs": [],
   "source": [
    "# EXERCISE: load drosha1.txt and drosha2.txt as you did previously for wt1 and wt2\n",
    "\n",
    "# EXERCISE: combine the counts of drosha1 and drosha2. Use another variable name to not overwrite 'combined_counts'\n",
    "\n"
   ]
  },
  {
   "cell_type": "code",
   "execution_count": null,
   "metadata": {},
   "outputs": [],
   "source": [
    "# EXERCISE: Look at the expression of the top expressed miRNAs from your WT sample. How do they compare? \n",
    "# HELP: you can select a row by using the .loc[] selector with the row-index. For example: combined_reads_drosha.loc['mmu-miR-182-5p']"
   ]
  },
  {
   "cell_type": "markdown",
   "metadata": {},
   "source": [
    "Depending on your previous knowledge, all these commands might seem confusing when seeing them the first time. I remember continuously having had the thought \"How would I ever know all these commands?\" when I started programming. \n",
    "Usually, programming languages and libraries are designed in a consistent and logical fashion. With some practice and some reading of manuals and documentations you will quickly get the hang of it.\n",
    "\n",
    "In case all of this was too easy, I'll let you do the last exercise on your own. I'll support you in case you have issues"
   ]
  },
  {
   "cell_type": "markdown",
   "metadata": {},
   "source": [
    "## Exercise\n",
    "\n",
    "Are all miRNAs equally affected by the KO of Drosha? Find miRNAs that are not negatively affected (i.e. not downregulated) in the Drosha mutant. How many can you find? Can find a potential biological explanation for why these miRNAs might not be affected despite the Drosha KO?\n",
    "\n",
    "\n",
    "Experiment a little with what you have and don't hesitate to ask me or Google for help.\n",
    "\n",
    "Methods that might come in handy during this exercise include:\n",
    "\n",
    "- .dropna() : drops 'na/nan' values from your data. NA/NAN stands for 'not available' or 'not a number'\n",
    "- column.loc[column > 5] : Select only rows where the value is greater than 5 (you can use any number of course)."
   ]
  },
  {
   "cell_type": "code",
   "execution_count": null,
   "metadata": {},
   "outputs": [],
   "source": []
  }
 ],
 "metadata": {
  "kernelspec": {
   "display_name": "Python 3",
   "language": "python",
   "name": "python3"
  },
  "language_info": {
   "codemirror_mode": {
    "name": "ipython",
    "version": 3
   },
   "file_extension": ".py",
   "mimetype": "text/x-python",
   "name": "python",
   "nbconvert_exporter": "python",
   "pygments_lexer": "ipython3",
   "version": "3.8.5"
  }
 },
 "nbformat": 4,
 "nbformat_minor": 4
}
